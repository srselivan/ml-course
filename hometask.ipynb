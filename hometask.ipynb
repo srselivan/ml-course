{
 "cells": [
  {
   "cell_type": "markdown",
   "metadata": {},
   "source": [
    "### Задача\n",
    "Прогнозирование вероятности возникновения инсульта у человека.\n",
    "\n",
    "#### Информация об атрибутах\n",
    "- id: уникальный идентификатор.\n",
    "- gender: пол: мужской, женский, другое.\n",
    "- age: возраст пациента.\n",
    "- hypertension: диагностирована ли у пациента гипертония (0 - нет, 1 - да).\n",
    "- heart_disease: диагностированы ли у пациента болезни сердца (0 - нет, 1 - да).\n",
    "- ever married: был ли пациента когда-либо женат/замужем.\n",
    "- work-type: вид работы (работа с детьми, работа на государственной службе, никогда не работал(а), частная работа, самозанятый(ая)).\n",
    "- Residence_type: место жительства (сельская местность, город).\n",
    "- avg_glucose_level: средний уровень глюкозы в крови.\n",
    "- bmi: значение ИМТ - индекса массы тела.\n",
    "- smoking_status: отношение к курению (курил(а) в прошлом, никогда не курил(а), курит в настоящий момент, инофрмация неизвестна).\n",
    "- stroke: таргетный признак, выявлен инсульт или нет (0 - нет, 1 - да). "
   ]
  },
  {
   "cell_type": "code",
   "execution_count": 119,
   "metadata": {},
   "outputs": [],
   "source": [
    "import pandas as pd\n",
    "import numpy as np\n",
    "import matplotlib.pyplot as plt\n",
    "import seaborn as sns\n",
    "import optuna\n",
    "from scipy import stats\n",
    "from sklearn.neighbors import KNeighborsClassifier\n",
    "from sklearn.metrics import accuracy_score\n",
    "from sklearn.model_selection import train_test_split\n",
    "from sklearn.model_selection import GridSearchCV"
   ]
  },
  {
   "cell_type": "markdown",
   "metadata": {},
   "source": [
    "### Чтение данных"
   ]
  },
  {
   "cell_type": "code",
   "execution_count": null,
   "metadata": {},
   "outputs": [],
   "source": [
    "dataset = pd.read_csv(\"./healthcare-dataset-stroke-data.csv\")"
   ]
  },
  {
   "cell_type": "code",
   "execution_count": null,
   "metadata": {},
   "outputs": [],
   "source": [
    "dataset.drop('id', axis=1, inplace=True)\n",
    "dataset"
   ]
  },
  {
   "cell_type": "code",
   "execution_count": null,
   "metadata": {},
   "outputs": [],
   "source": [
    "dataset.info()"
   ]
  },
  {
   "cell_type": "markdown",
   "metadata": {},
   "source": [
    "### Визуализация данных и вычисление основных характеристик"
   ]
  },
  {
   "cell_type": "markdown",
   "metadata": {},
   "source": [
    "Возрастное распределение"
   ]
  },
  {
   "cell_type": "code",
   "execution_count": null,
   "metadata": {},
   "outputs": [],
   "source": [
    "plt.hist(dataset['age'].loc[dataset['gender'] == 'Female'], bins=np.arange(15, 90, 5), color='pink', edgecolor='black', label=\"Female\")\n",
    "plt.hist(dataset['age'].loc[dataset['gender'] == 'Male'], bins=np.arange(15, 90, 5), color='blue', edgecolor='black', label=\"Male\")\n",
    "plt.hist(dataset['age'].loc[dataset['gender'] == 'Other'], bins=np.arange(15, 90, 5), color='gray', edgecolor='black',  label=\"Other\")\n",
    "plt.xticks(np.arange(15, 90, 5))\n",
    "plt.yticks()\n",
    "\n",
    "plt.xlabel('Age')\n",
    "plt.ylabel('Count')\n",
    "plt.legend()\n",
    "plt.show()"
   ]
  },
  {
   "cell_type": "code",
   "execution_count": null,
   "metadata": {},
   "outputs": [],
   "source": [
    "plt.pie(dataset['gender'].value_counts(), labels=['Female', 'Male', 'Other'], colors = ['pink', 'blue', 'gray'])\n",
    "plt.show()"
   ]
  },
  {
   "cell_type": "markdown",
   "metadata": {},
   "source": [
    "Индекс массы тела"
   ]
  },
  {
   "cell_type": "code",
   "execution_count": null,
   "metadata": {},
   "outputs": [],
   "source": [
    "sns.displot(dataset['bmi'])\n",
    "plt.show()"
   ]
  },
  {
   "cell_type": "code",
   "execution_count": null,
   "metadata": {},
   "outputs": [],
   "source": [
    "sns.heatmap(dataset.corr(numeric_only=True), annot=True, square=True, cmap='coolwarm')\n",
    "pass"
   ]
  },
  {
   "cell_type": "markdown",
   "metadata": {},
   "source": [
    "### Обработка пропущенных значений"
   ]
  },
  {
   "cell_type": "code",
   "execution_count": null,
   "metadata": {},
   "outputs": [],
   "source": [
    "dataset.isnull().sum()"
   ]
  },
  {
   "cell_type": "code",
   "execution_count": null,
   "metadata": {},
   "outputs": [],
   "source": [
    "dataset['bmi'] = dataset['bmi'].fillna(dataset['bmi'].median(axis = 0), axis = 0)\n",
    "dataset.isnull().sum()"
   ]
  },
  {
   "cell_type": "markdown",
   "metadata": {},
   "source": [
    "### Обработка категориальных признаков"
   ]
  },
  {
   "cell_type": "code",
   "execution_count": null,
   "metadata": {},
   "outputs": [],
   "source": [
    "categorical_columns = [i for i in dataset.columns if dataset[i].dtype == 'object']\n",
    "numerical_columns = [i for i in dataset.columns if dataset[i].dtype != 'object' and i != 'stroke']\n",
    "print(categorical_columns)\n",
    "print(numerical_columns)"
   ]
  },
  {
   "cell_type": "code",
   "execution_count": null,
   "metadata": {},
   "outputs": [],
   "source": [
    "binary_columns = [i for i in categorical_columns if len(dataset[i].unique()) == 2]\n",
    "nonbinary_columns = [i for i in categorical_columns if len(dataset[i].unique()) > 2]\n",
    "print(binary_columns, nonbinary_columns)"
   ]
  },
  {
   "cell_type": "markdown",
   "metadata": {},
   "source": [
    "#### Обработка бинарных категориальных признаков"
   ]
  },
  {
   "cell_type": "code",
   "execution_count": null,
   "metadata": {},
   "outputs": [],
   "source": [
    "print(dataset['Residence_type'].unique(), dataset['ever_married'].unique())"
   ]
  },
  {
   "cell_type": "code",
   "execution_count": null,
   "metadata": {},
   "outputs": [],
   "source": [
    "dataset['Residence_type'] = dataset['Residence_type'].apply(lambda x: 1 if x == 'Urban' else 0)\n",
    "dataset['ever_married'] = dataset['ever_married'].apply(lambda x: 1 if x == 'Yes' else 0)\n",
    "dataset"
   ]
  },
  {
   "cell_type": "markdown",
   "metadata": {},
   "source": [
    "#### Обработка небинарных категориальных признаков"
   ]
  },
  {
   "cell_type": "code",
   "execution_count": null,
   "metadata": {},
   "outputs": [],
   "source": [
    "dataset_nonbinary = pd.get_dummies(dataset[nonbinary_columns])\n",
    "print(dataset_nonbinary.columns)"
   ]
  },
  {
   "cell_type": "markdown",
   "metadata": {},
   "source": [
    "### Нормализация"
   ]
  },
  {
   "cell_type": "code",
   "execution_count": null,
   "metadata": {},
   "outputs": [],
   "source": [
    "dataset_numerical = dataset[numerical_columns]\n",
    "dataset_numerical.describe()"
   ]
  },
  {
   "cell_type": "code",
   "execution_count": null,
   "metadata": {},
   "outputs": [],
   "source": [
    "dataset_numerical = (dataset_numerical - dataset_numerical.mean(axis = 0))/dataset_numerical.std(axis = 0)\n",
    "dataset_numerical.describe()"
   ]
  },
  {
   "cell_type": "code",
   "execution_count": null,
   "metadata": {},
   "outputs": [],
   "source": [
    "dataset = pd.concat([dataset_numerical, dataset_nonbinary, dataset[binary_columns], dataset['stroke']], axis = 1)\n",
    "dataset"
   ]
  },
  {
   "cell_type": "markdown",
   "metadata": {},
   "source": [
    "### Разбивка данных"
   ]
  },
  {
   "cell_type": "code",
   "execution_count": null,
   "metadata": {},
   "outputs": [],
   "source": [
    "X = dataset.drop(['stroke'], axis = 1)\n",
    "y = dataset['stroke']\n",
    "X = X.to_numpy()\n",
    "y = np.array(y)\n",
    "\n",
    "X_train, X_test, y_train, y_test = train_test_split(X, y, test_size = 0.3, random_state = 21)\n",
    "\n",
    "N_train = X_train.shape[0]\n",
    "N_test = X_test.shape[0]\n",
    "print(N_train, N_test)"
   ]
  },
  {
   "cell_type": "markdown",
   "metadata": {},
   "source": [
    "### Запуск классификатора ближайших соседей"
   ]
  },
  {
   "cell_type": "code",
   "execution_count": null,
   "metadata": {},
   "outputs": [],
   "source": [
    "knn = KNeighborsClassifier(n_neighbors = 10)\n",
    "knn.fit(X_train, y_train)\n",
    "\n",
    "y_test_predicted = knn.predict(X_test)\n",
    "err_test = np.mean(y_test_predicted != y_test)\n",
    "\n",
    "y_train_predict = knn.predict(X_train)\n",
    "err_train = np.mean(y_train != y_train_predict)\n",
    "\n",
    "print('err_test=', err_test)\n",
    "print('err_train=', err_train)\n",
    "\n",
    "accurancy_train = accuracy_score(y_train, y_train_predict)\n",
    "accurancy_test = accuracy_score(y_test, y_test_predicted)\n",
    "\n",
    "print('accurancy_test=', accurancy_test)\n",
    "print('accurancy_train=', accurancy_train)"
   ]
  },
  {
   "cell_type": "markdown",
   "metadata": {},
   "source": [
    "### Поиск оптимального значения гиперпараметра (к- ближайших соседей)"
   ]
  },
  {
   "cell_type": "code",
   "execution_count": null,
   "metadata": {},
   "outputs": [],
   "source": [
    "from sklearn.model_selection import GridSearchCV"
   ]
  },
  {
   "cell_type": "code",
   "execution_count": null,
   "metadata": {},
   "outputs": [],
   "source": [
    "knn = KNeighborsClassifier()\n",
    "\n",
    "param = np.arange(1, 10)\n",
    "params = {\n",
    "    'n_neighbors': param\n",
    "}\n",
    "\n",
    "gs = GridSearchCV(knn,params, n_jobs=-1)\n",
    "gs.fit(X_train, y_train)"
   ]
  },
  {
   "cell_type": "code",
   "execution_count": null,
   "metadata": {},
   "outputs": [],
   "source": [
    "gs.best_params_"
   ]
  },
  {
   "cell_type": "markdown",
   "metadata": {},
   "source": [
    "### Вычислений ошибок на обучающей и тестовой выборках"
   ]
  },
  {
   "cell_type": "code",
   "execution_count": null,
   "metadata": {},
   "outputs": [],
   "source": [
    "knn = KNeighborsClassifier(**gs.best_params_)\n",
    "\n",
    "knn.fit(X_train, y_train)\n",
    "\n",
    "y_test_predicted = knn.predict(X_test)\n",
    "err_test = np.mean(y_test_predicted != y_test)\n",
    "\n",
    "y_train_predict = knn.predict(X_train)\n",
    "err_train = np.mean(y_train != y_train_predict)\n",
    "\n",
    "print('err_test=', err_test)\n",
    "print('err_train=', err_train)\n",
    "\n",
    "accurancy_train = accuracy_score(y_train, y_train_predict)\n",
    "accurancy_test = accuracy_score(y_test, y_test_predicted)\n",
    "\n",
    "print('accurancy_test=', accurancy_test)\n",
    "print('accurancy_train=', accurancy_train)"
   ]
  },
  {
   "cell_type": "markdown",
   "metadata": {},
   "source": [
    "### RandomForest"
   ]
  },
  {
   "cell_type": "code",
   "execution_count": null,
   "metadata": {},
   "outputs": [],
   "source": [
    "from sklearn import ensemble"
   ]
  },
  {
   "cell_type": "code",
   "execution_count": null,
   "metadata": {},
   "outputs": [],
   "source": [
    "rf = ensemble.RandomForestClassifier(n_estimators = 500, n_jobs=-1)\n",
    "rf.fit(X_train, y_train)"
   ]
  },
  {
   "cell_type": "code",
   "execution_count": null,
   "metadata": {},
   "outputs": [],
   "source": [
    "y_test_predicted = rf.predict(X_test)\n",
    "err_test = np.mean(y_test_predicted != y_test)\n",
    "\n",
    "y_train_predict = rf.predict(X_train)\n",
    "err_train = np.mean(y_train != y_train_predict)\n",
    "\n",
    "print('err_test=', err_test)\n",
    "print('err_train=', err_train)\n",
    "\n",
    "accurancy_train = accuracy_score(y_train, y_train_predict)\n",
    "accurancy_test = accuracy_score(y_test, y_test_predicted)\n",
    "\n",
    "print('accurancy_test=', accurancy_test)\n",
    "print('accurancy_train=', accurancy_train)"
   ]
  },
  {
   "cell_type": "markdown",
   "metadata": {},
   "source": [
    "### Выводы\n",
    "\n",
    "В работе реализовано обучение модели машинного обучения посредством метода k ближайших соседей и Random Forest. \n",
    "Наименьшую ошибку показал метод k ближайших соседей со значением параметра = 6."
   ]
  }
 ],
 "metadata": {
  "kernelspec": {
   "display_name": "Python 3",
   "language": "python",
   "name": "python3"
  },
  "language_info": {
   "codemirror_mode": {
    "name": "ipython",
    "version": 3
   },
   "file_extension": ".py",
   "mimetype": "text/x-python",
   "name": "python",
   "nbconvert_exporter": "python",
   "pygments_lexer": "ipython3",
   "version": "3.11.1"
  }
 },
 "nbformat": 4,
 "nbformat_minor": 2
}
